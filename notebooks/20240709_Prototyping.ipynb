{
 "cells": [
  {
   "cell_type": "markdown",
   "metadata": {
    "application/vnd.databricks.v1+cell": {
     "cellMetadata": {},
     "inputWidgets": {},
     "nuid": "5d51ef7a-6115-4929-a108-8f032c1b9d07",
     "showTitle": false,
     "title": ""
    }
   },
   "source": [
    "\n",
    "# Data Load"
   ]
  },
  {
   "cell_type": "code",
   "metadata": {
    "application/vnd.databricks.v1+cell": {
     "cellMetadata": {
      "byteLimit": 2048000,
      "rowLimit": 10000
     },
     "inputWidgets": {},
     "nuid": "2c68a69a-a469-4be5-a682-bb076d86d866",
     "showTitle": false,
     "title": ""
    },
    "ExecuteTime": {
     "end_time": "2024-07-15T15:35:05.727135Z",
     "start_time": "2024-07-15T15:35:05.666069Z"
    }
   },
   "source": [
    "import pandas as pd\n",
    "\n",
    "import json\n",
    "\n",
    "# Load JSON file from disk\n",
    "with open('../data/data.json', 'r') as file:\n",
    "    data = json.load(file)"
   ],
   "outputs": [],
   "execution_count": 2
  },
  {
   "cell_type": "markdown",
   "metadata": {
    "application/vnd.databricks.v1+cell": {
     "cellMetadata": {},
     "inputWidgets": {},
     "nuid": "bca3d8bf-1ef9-45f9-9428-24fc0a1156aa",
     "showTitle": false,
     "title": ""
    }
   },
   "source": [
    "\n",
    "# Data understanding"
   ]
  },
  {
   "cell_type": "markdown",
   "metadata": {
    "application/vnd.databricks.v1+cell": {
     "cellMetadata": {},
     "inputWidgets": {},
     "nuid": "92567134-9472-4630-b888-60fb06a4d764",
     "showTitle": false,
     "title": ""
    }
   },
   "source": [
    "\n",
    "## Data structure"
   ]
  },
  {
   "cell_type": "code",
   "metadata": {
    "application/vnd.databricks.v1+cell": {
     "cellMetadata": {
      "byteLimit": 2048000,
      "rowLimit": 10000
     },
     "inputWidgets": {},
     "nuid": "23dac0b3-de08-4b1d-9cc4-f2b431a3e90e",
     "showTitle": false,
     "title": ""
    },
    "ExecuteTime": {
     "end_time": "2024-07-15T15:35:20.442493Z",
     "start_time": "2024-07-15T15:35:20.436884Z"
    }
   },
   "source": [
    "data[1]"
   ],
   "outputs": [
    {
     "data": {
      "text/plain": [
       "{'talent': {'languages': [{'rating': 'C2', 'title': 'German'},\n",
       "   {'rating': 'C2', 'title': 'English'},\n",
       "   {'rating': 'A2', 'title': 'Spanish'},\n",
       "   {'rating': 'A2', 'title': 'French'}],\n",
       "  'job_roles': ['frontend-developer',\n",
       "   'full-stack-developer',\n",
       "   'c-c-developer',\n",
       "   'mobile-developer'],\n",
       "  'seniority': 'junior',\n",
       "  'salary_expectation': 44000,\n",
       "  'degree': 'master'},\n",
       " 'job': {'languages': [{'title': 'German', 'rating': 'C1', 'must_have': True},\n",
       "   {'title': 'English', 'rating': 'B2', 'must_have': True}],\n",
       "  'job_roles': ['frontend-developer'],\n",
       "  'seniorities': ['junior', 'midlevel'],\n",
       "  'max_salary': 70000,\n",
       "  'min_degree': 'none'},\n",
       " 'label': True}"
      ]
     },
     "execution_count": 3,
     "metadata": {},
     "output_type": "execute_result"
    }
   ],
   "execution_count": 3
  },
  {
   "cell_type": "code",
   "metadata": {
    "application/vnd.databricks.v1+cell": {
     "cellMetadata": {
      "byteLimit": 2048000,
      "rowLimit": 10000
     },
     "inputWidgets": {},
     "nuid": "5026eafa-5bca-4de3-986a-9888ed14eeb7",
     "showTitle": false,
     "title": ""
    },
    "ExecuteTime": {
     "end_time": "2024-07-15T15:35:23.365361Z",
     "start_time": "2024-07-15T15:35:23.362527Z"
    }
   },
   "source": [
    "len(data)"
   ],
   "outputs": [
    {
     "data": {
      "text/plain": [
       "2000"
      ]
     },
     "execution_count": 4,
     "metadata": {},
     "output_type": "execute_result"
    }
   ],
   "execution_count": 4
  },
  {
   "cell_type": "markdown",
   "metadata": {
    "application/vnd.databricks.v1+cell": {
     "cellMetadata": {},
     "inputWidgets": {},
     "nuid": "1677a3ea-77fe-49de-a084-56e3409df1c8",
     "showTitle": false,
     "title": ""
    }
   },
   "source": [
    "\n",
    "## Universe analysis"
   ]
  },
  {
   "cell_type": "code",
   "metadata": {
    "application/vnd.databricks.v1+cell": {
     "cellMetadata": {
      "byteLimit": 2048000,
      "rowLimit": 10000
     },
     "inputWidgets": {},
     "nuid": "b85abfab-9fa0-411d-b17e-85e248053f91",
     "showTitle": false,
     "title": ""
    },
    "ExecuteTime": {
     "end_time": "2024-07-15T15:35:26.374050Z",
     "start_time": "2024-07-15T15:35:26.357185Z"
    }
   },
   "source": [
    "import pandas as pd\n",
    "\n",
    "\n",
    "all_talent_seniorities = set()\n",
    "all_talent_languages = set()\n",
    "all_talent_job_roles = set()\n",
    "all_talent_degrees = set()\n",
    "all_job_languages = set()\n",
    "all_job_roles = set()\n",
    "all_job_seniorities = set()\n",
    "all_job_degrees = set()\n",
    "all_talent_language_ratings = set()\n",
    "all_job_language_ratings = set()\n",
    "\n",
    "for index, elem in enumerate(data):\n",
    "    talent = elem[\"talent\"]\n",
    "    job = elem[\"job\"]\n",
    "\n",
    "    # talent\n",
    "    all_talent_job_roles = all_talent_job_roles.union(set(talent[\"job_roles\"]))\n",
    "    all_talent_seniorities = all_talent_seniorities.union(set([talent[\"seniority\"]]))\n",
    "    all_talent_degrees = all_talent_degrees.union(set([talent[\"degree\"]]))\n",
    "    talent_languages = talent[\"languages\"]\n",
    "    for lang in talent_languages:\n",
    "        all_talent_languages = all_talent_languages.union(set([lang[\"title\"]]))\n",
    "        all_talent_language_ratings = all_talent_language_ratings.union(set([lang[\"rating\"]]))\n",
    "\n",
    "    # job\n",
    "    all_job_roles = all_job_roles.union(set(job[\"job_roles\"]))\n",
    "    all_job_seniorities = all_job_seniorities.union(set(job[\"seniorities\"]))\n",
    "    all_job_degrees = all_job_degrees.union(set([job[\"min_degree\"]]))\n",
    "    job_languages = job[\"languages\"]\n",
    "    for lang in job_languages:\n",
    "        all_job_languages = all_job_languages.union(set([lang[\"title\"]]))\n",
    "        all_job_language_ratings = all_job_language_ratings.union(set([lang[\"rating\"]]))\n",
    "\n",
    "print(f\"Number of distinct talent languages: {len(all_talent_languages)}\")\n",
    "print(f\"Number of distinct talent job roles: {len(all_talent_job_roles)}\")\n",
    "print(f\"Number of distinct job languages: {len(all_job_languages)}\")\n",
    "print(f\"Number of distinct job roles: {len(all_job_roles)}\")\n",
    "print(all_talent_seniorities)\n",
    "print(all_job_seniorities)\n",
    "print(all_talent_degrees)\n",
    "print(all_job_degrees)\n",
    "print(all_talent_language_ratings)\n",
    "print(all_job_language_ratings)"
   ],
   "outputs": [
    {
     "name": "stdout",
     "output_type": "stream",
     "text": [
      "Number of distinct talent languages: 35\n",
      "Number of distinct talent job roles: 53\n",
      "Number of distinct job languages: 2\n",
      "Number of distinct job roles: 33\n",
      "{'junior', 'senior', 'midlevel', 'none'}\n",
      "{'junior', 'senior', 'midlevel', 'none'}\n",
      "{'bachelor', 'none', 'master', 'doctorate', 'apprenticeship'}\n",
      "{'bachelor', 'none', 'master', 'doctorate', 'apprenticeship'}\n",
      "{'B1', 'A2', 'C2', 'C1', 'B2', 'A1'}\n",
      "{'C2', 'B1', 'C1', 'B2'}\n"
     ]
    }
   ],
   "execution_count": 5
  },
  {
   "cell_type": "markdown",
   "metadata": {
    "application/vnd.databricks.v1+cell": {
     "cellMetadata": {},
     "inputWidgets": {},
     "nuid": "f16629dc-49ca-4f00-8619-b18e8a7c16c7",
     "showTitle": false,
     "title": ""
    }
   },
   "source": [
    "\n",
    "# Modeling prototyping"
   ]
  },
  {
   "cell_type": "markdown",
   "metadata": {
    "application/vnd.databricks.v1+cell": {
     "cellMetadata": {},
     "inputWidgets": {},
     "nuid": "5da1374f-ad83-4077-94fb-375e351a1149",
     "showTitle": false,
     "title": ""
    }
   },
   "source": [
    "\n",
    "## Training data preparation"
   ]
  },
  {
   "cell_type": "code",
   "metadata": {
    "application/vnd.databricks.v1+cell": {
     "cellMetadata": {
      "byteLimit": 2048000,
      "rowLimit": 10000
     },
     "inputWidgets": {},
     "nuid": "c2f7e9e1-bdce-4b4f-89ba-3491fbeff013",
     "showTitle": false,
     "title": ""
    },
    "ExecuteTime": {
     "end_time": "2024-07-15T15:35:32.297223Z",
     "start_time": "2024-07-15T15:35:32.290650Z"
    }
   },
   "source": [
    "seniority_rank_mapping = {\n",
    "    \"none\": 1,\n",
    "    \"junior\": 2,\n",
    "    \"midlevel\": 3,\n",
    "    \"senior\": 4\n",
    "}\n",
    "\n",
    "degree_rank_mapping = {\n",
    "    \"none\": 1,\n",
    "    \"apprenticeship\": 2,\n",
    "    \"bachelor\": 3,\n",
    "    \"master\": 4,\n",
    "    \"doctorate\": 5\n",
    "}\n",
    "\n",
    "language_rating_rank_mapping = {\n",
    "    \"A1\": 1,\n",
    "    \"A2\": 2,\n",
    "    \"B1\": 3,\n",
    "    \"B2\": 4,\n",
    "    \"C1\": 5,\n",
    "    \"C2\": 6,\n",
    "}\n",
    "\n",
    "pdf_seniority_rank_mapping = pd.DataFrame(list(seniority_rank_mapping.items()), columns=[\"seniority\", \"seniority_rank\"])\n",
    "pdf_language_rating_rank_mapping = pd.DataFrame(list(language_rating_rank_mapping.items()), columns=[\"rating\", \"rating_rank\"])"
   ],
   "outputs": [],
   "execution_count": 6
  },
  {
   "cell_type": "code",
   "metadata": {
    "application/vnd.databricks.v1+cell": {
     "cellMetadata": {
      "byteLimit": 2048000,
      "rowLimit": 10000
     },
     "inputWidgets": {},
     "nuid": "01499cfd-2d98-41e0-98df-a3af382819a5",
     "showTitle": false,
     "title": ""
    },
    "ExecuteTime": {
     "end_time": "2024-07-15T15:35:41.616321Z",
     "start_time": "2024-07-15T15:35:37.060941Z"
    }
   },
   "source": [
    "import pandas as pd\n",
    "pdf_talent_languages_all = pd.DataFrame()\n",
    "pdf_job_languages_all = pd.DataFrame()\n",
    "pdf_talent_job_roles_all = pd.DataFrame()\n",
    "pdf_job_job_roles_all = pd.DataFrame()\n",
    "labels = list()\n",
    "\n",
    "\n",
    "for index, elem in enumerate(data):\n",
    "    talent = elem[\"talent\"]\n",
    "    job = elem[\"job\"]\n",
    "\n",
    "    # talent \n",
    "    ## languages\n",
    "    talent_languages = talent[\"languages\"]\n",
    "    pdf_talent_languages = pd.DataFrame(talent_languages)\n",
    "    pdf_talent_languages = pdf_talent_languages.merge(pdf_language_rating_rank_mapping, on=\"rating\", how=\"inner\")\n",
    "    pdf_talent_languages[\"id\"] = index\n",
    "    pdf_talent_languages[\"number_of_languages_TALENT\"] = len(pdf_talent_languages)\n",
    "    pdf_talent_languages_all = pd.concat([pdf_talent_languages_all, pdf_talent_languages])\n",
    "    \n",
    "    # talent\n",
    "    ## jobs\n",
    "    talent_job_roles = talent[\"job_roles\"]\n",
    "    pdf_talent_job_roles = pd.DataFrame(talent_job_roles, columns=[\"job_role\"])\n",
    "    pdf_talent_job_roles[\"id\"] = index\n",
    "    # seniority\n",
    "    pdf_talent_job_roles[\"seniority_rank\"] =  seniority_rank_mapping.get(talent[\"seniority\"])\n",
    "\n",
    "    # salary_expectation\n",
    "    pdf_talent_job_roles[\"salary\"] =  talent[\"salary_expectation\"]\n",
    "\n",
    "    # degree\n",
    "    pdf_talent_job_roles[\"degree\"] =  degree_rank_mapping.get(talent[\"degree\"])\n",
    "    pdf_talent_job_roles_all = pd.concat([pdf_talent_job_roles_all, pdf_talent_job_roles])\n",
    "\n",
    "    # job\n",
    "    ## languages\n",
    "    job_languages = job[\"languages\"]\n",
    "    pdf_job_languages = pd.DataFrame(job_languages)\n",
    "    pdf_job_languages = pdf_job_languages.merge(pdf_language_rating_rank_mapping, on=\"rating\", how=\"inner\")\n",
    "    pdf_job_languages[\"id\"] = index\n",
    "    pdf_job_languages_all = pd.concat([pdf_job_languages_all, pdf_job_languages])\n",
    "\n",
    "    # job\n",
    "    ## jobs\n",
    "    job_job_roles = job[\"job_roles\"]\n",
    "    pdf_job_job_roles = pd.DataFrame(job_job_roles, columns=[\"job_role\"])\n",
    "    pdf_job_job_roles[\"id\"] = index\n",
    "\n",
    "    # seniority\n",
    "    pdf_job_seniorities = pd.DataFrame(job[\"seniorities\"], columns = [\"seniority\"])\n",
    "    pdf_job_seniorities = pdf_job_seniorities.merge(pdf_seniority_rank_mapping, on=\"seniority\", how=\"inner\")\n",
    "    pdf_job_job_roles[\"seniority_rank\"] =  pdf_job_seniorities[\"seniority_rank\"].mean()\n",
    "\n",
    "    # salary\n",
    "    pdf_job_job_roles[\"salary\"] =  job[\"max_salary\"]\n",
    "\n",
    "    # degree\n",
    "    pdf_job_job_roles[\"degree\"] =  degree_rank_mapping.get(job[\"min_degree\"])\n",
    "    pdf_job_job_roles_all = pd.concat([pdf_job_job_roles_all, pdf_job_job_roles])\n",
    "\n",
    "    # label\n",
    "    labels.append(int(elem[\"label\"]))\n",
    "pdf_labels = pd.DataFrame(zip(range(len(data)), labels), columns=[\"id\", \"label\"])"
   ],
   "outputs": [],
   "execution_count": 7
  },
  {
   "cell_type": "code",
   "metadata": {
    "application/vnd.databricks.v1+cell": {
     "cellMetadata": {
      "byteLimit": 2048000,
      "rowLimit": 10000
     },
     "inputWidgets": {},
     "nuid": "ac1aa94a-8f30-47bf-8d22-49f93e1fe3b8",
     "showTitle": false,
     "title": ""
    },
    "ExecuteTime": {
     "end_time": "2024-07-15T15:35:47.515745Z",
     "start_time": "2024-07-15T15:35:47.507946Z"
    }
   },
   "source": [
    "pdf_labels.groupby(\"label\").count()"
   ],
   "outputs": [
    {
     "data": {
      "text/plain": [
       "         id\n",
       "label      \n",
       "0      1000\n",
       "1      1000"
      ],
      "text/html": [
       "<div>\n",
       "<style scoped>\n",
       "    .dataframe tbody tr th:only-of-type {\n",
       "        vertical-align: middle;\n",
       "    }\n",
       "\n",
       "    .dataframe tbody tr th {\n",
       "        vertical-align: top;\n",
       "    }\n",
       "\n",
       "    .dataframe thead th {\n",
       "        text-align: right;\n",
       "    }\n",
       "</style>\n",
       "<table border=\"1\" class=\"dataframe\">\n",
       "  <thead>\n",
       "    <tr style=\"text-align: right;\">\n",
       "      <th></th>\n",
       "      <th>id</th>\n",
       "    </tr>\n",
       "    <tr>\n",
       "      <th>label</th>\n",
       "      <th></th>\n",
       "    </tr>\n",
       "  </thead>\n",
       "  <tbody>\n",
       "    <tr>\n",
       "      <th>0</th>\n",
       "      <td>1000</td>\n",
       "    </tr>\n",
       "    <tr>\n",
       "      <th>1</th>\n",
       "      <td>1000</td>\n",
       "    </tr>\n",
       "  </tbody>\n",
       "</table>\n",
       "</div>"
      ]
     },
     "execution_count": 8,
     "metadata": {},
     "output_type": "execute_result"
    }
   ],
   "execution_count": 8
  },
  {
   "cell_type": "markdown",
   "metadata": {
    "application/vnd.databricks.v1+cell": {
     "cellMetadata": {},
     "inputWidgets": {},
     "nuid": "a6ed724b-af13-476a-901e-c8d7e1e8aaf2",
     "showTitle": false,
     "title": ""
    }
   },
   "source": [
    "\n",
    "## Feature engineering"
   ]
  },
  {
   "cell_type": "code",
   "metadata": {
    "application/vnd.databricks.v1+cell": {
     "cellMetadata": {
      "byteLimit": 2048000,
      "rowLimit": 10000
     },
     "inputWidgets": {},
     "nuid": "a597ef81-2ab0-49fa-8844-6abd4aaf00e4",
     "showTitle": false,
     "title": ""
    },
    "ExecuteTime": {
     "end_time": "2024-07-15T15:35:50.918226Z",
     "start_time": "2024-07-15T15:35:50.899364Z"
    }
   },
   "source": [
    "pdf_talent_languages_required = pdf_talent_languages_all[pdf_talent_languages_all[\"title\"].isin([\"German\", \"English\"])]\n",
    "pdf_talent_languages_required_wide = pdf_talent_languages_required.pivot(index=['id', 'number_of_languages_TALENT'], columns='title', values=\"rating_rank\").fillna(0).reset_index()\n",
    "pdf_talent_languages_required_wide = pdf_talent_languages_required_wide.rename(columns={\"English\": \"English_TALENT\", \"German\": \"German_TALENT\"})\n",
    "\n",
    "pdf_job_languages_must_have_wide = pdf_job_languages_all[pdf_job_languages_all[\"must_have\"]==True].pivot(index=['id'], columns='title', values=\"rating_rank\").fillna(0).reset_index()\n",
    "pdf_job_languages_must_have_wide = pdf_job_languages_must_have_wide.rename(columns={\"English\": \"English_must_have_JOB\", \"German\": \"German_must_have_JOB\"})\n",
    "\n",
    "pdf_job_languages_should_have_wide = pdf_job_languages_all[pdf_job_languages_all[\"must_have\"]==False].pivot(index=['id'], columns='title', values=\"rating_rank\").fillna(0).reset_index()\n",
    "pdf_job_languages_should_have_wide = pdf_job_languages_should_have_wide.rename(columns={\"English\": \"English_should_have_JOB\", \"German\": \"German_should_have_JOB\"})"
   ],
   "outputs": [],
   "execution_count": 9
  },
  {
   "cell_type": "code",
   "metadata": {
    "application/vnd.databricks.v1+cell": {
     "cellMetadata": {
      "byteLimit": 2048000,
      "rowLimit": 10000
     },
     "inputWidgets": {},
     "nuid": "aae48607-a402-4f93-8688-f176ca2e9dfc",
     "showTitle": false,
     "title": ""
    },
    "ExecuteTime": {
     "end_time": "2024-07-15T15:35:54.390320Z",
     "start_time": "2024-07-15T15:35:54.383243Z"
    }
   },
   "source": [
    "pdf_job_job_roles_all.head()"
   ],
   "outputs": [
    {
     "data": {
      "text/plain": [
       "             job_role  id  seniority_rank  salary  degree\n",
       "0  frontend-developer   0             2.5   70000       1\n",
       "0  frontend-developer   1             2.5   70000       1\n",
       "0       php-developer   2             3.5   65000       1\n",
       "0  frontend-developer   3             2.5   70000       1\n",
       "0   backend-developer   4             3.0   80000       3"
      ],
      "text/html": [
       "<div>\n",
       "<style scoped>\n",
       "    .dataframe tbody tr th:only-of-type {\n",
       "        vertical-align: middle;\n",
       "    }\n",
       "\n",
       "    .dataframe tbody tr th {\n",
       "        vertical-align: top;\n",
       "    }\n",
       "\n",
       "    .dataframe thead th {\n",
       "        text-align: right;\n",
       "    }\n",
       "</style>\n",
       "<table border=\"1\" class=\"dataframe\">\n",
       "  <thead>\n",
       "    <tr style=\"text-align: right;\">\n",
       "      <th></th>\n",
       "      <th>job_role</th>\n",
       "      <th>id</th>\n",
       "      <th>seniority_rank</th>\n",
       "      <th>salary</th>\n",
       "      <th>degree</th>\n",
       "    </tr>\n",
       "  </thead>\n",
       "  <tbody>\n",
       "    <tr>\n",
       "      <th>0</th>\n",
       "      <td>frontend-developer</td>\n",
       "      <td>0</td>\n",
       "      <td>2.5</td>\n",
       "      <td>70000</td>\n",
       "      <td>1</td>\n",
       "    </tr>\n",
       "    <tr>\n",
       "      <th>0</th>\n",
       "      <td>frontend-developer</td>\n",
       "      <td>1</td>\n",
       "      <td>2.5</td>\n",
       "      <td>70000</td>\n",
       "      <td>1</td>\n",
       "    </tr>\n",
       "    <tr>\n",
       "      <th>0</th>\n",
       "      <td>php-developer</td>\n",
       "      <td>2</td>\n",
       "      <td>3.5</td>\n",
       "      <td>65000</td>\n",
       "      <td>1</td>\n",
       "    </tr>\n",
       "    <tr>\n",
       "      <th>0</th>\n",
       "      <td>frontend-developer</td>\n",
       "      <td>3</td>\n",
       "      <td>2.5</td>\n",
       "      <td>70000</td>\n",
       "      <td>1</td>\n",
       "    </tr>\n",
       "    <tr>\n",
       "      <th>0</th>\n",
       "      <td>backend-developer</td>\n",
       "      <td>4</td>\n",
       "      <td>3.0</td>\n",
       "      <td>80000</td>\n",
       "      <td>3</td>\n",
       "    </tr>\n",
       "  </tbody>\n",
       "</table>\n",
       "</div>"
      ]
     },
     "execution_count": 10,
     "metadata": {},
     "output_type": "execute_result"
    }
   ],
   "execution_count": 10
  },
  {
   "cell_type": "code",
   "metadata": {
    "application/vnd.databricks.v1+cell": {
     "cellMetadata": {
      "byteLimit": 2048000,
      "rowLimit": 10000
     },
     "inputWidgets": {},
     "nuid": "85662cdb-a1e5-4afb-bda0-f8893a000fd9",
     "showTitle": false,
     "title": ""
    },
    "ExecuteTime": {
     "end_time": "2024-07-15T15:35:58.005244Z",
     "start_time": "2024-07-15T15:35:57.999128Z"
    }
   },
   "source": [
    "pdf_talent_job_roles_all.head()"
   ],
   "outputs": [
    {
     "data": {
      "text/plain": [
       "               job_role  id  seniority_rank  salary  degree\n",
       "0    frontend-developer   0               2   48000       3\n",
       "1     backend-developer   0               2   48000       3\n",
       "2  full-stack-developer   0               2   48000       3\n",
       "3        java-developer   0               2   48000       3\n",
       "4      mobile-developer   0               2   48000       3"
      ],
      "text/html": [
       "<div>\n",
       "<style scoped>\n",
       "    .dataframe tbody tr th:only-of-type {\n",
       "        vertical-align: middle;\n",
       "    }\n",
       "\n",
       "    .dataframe tbody tr th {\n",
       "        vertical-align: top;\n",
       "    }\n",
       "\n",
       "    .dataframe thead th {\n",
       "        text-align: right;\n",
       "    }\n",
       "</style>\n",
       "<table border=\"1\" class=\"dataframe\">\n",
       "  <thead>\n",
       "    <tr style=\"text-align: right;\">\n",
       "      <th></th>\n",
       "      <th>job_role</th>\n",
       "      <th>id</th>\n",
       "      <th>seniority_rank</th>\n",
       "      <th>salary</th>\n",
       "      <th>degree</th>\n",
       "    </tr>\n",
       "  </thead>\n",
       "  <tbody>\n",
       "    <tr>\n",
       "      <th>0</th>\n",
       "      <td>frontend-developer</td>\n",
       "      <td>0</td>\n",
       "      <td>2</td>\n",
       "      <td>48000</td>\n",
       "      <td>3</td>\n",
       "    </tr>\n",
       "    <tr>\n",
       "      <th>1</th>\n",
       "      <td>backend-developer</td>\n",
       "      <td>0</td>\n",
       "      <td>2</td>\n",
       "      <td>48000</td>\n",
       "      <td>3</td>\n",
       "    </tr>\n",
       "    <tr>\n",
       "      <th>2</th>\n",
       "      <td>full-stack-developer</td>\n",
       "      <td>0</td>\n",
       "      <td>2</td>\n",
       "      <td>48000</td>\n",
       "      <td>3</td>\n",
       "    </tr>\n",
       "    <tr>\n",
       "      <th>3</th>\n",
       "      <td>java-developer</td>\n",
       "      <td>0</td>\n",
       "      <td>2</td>\n",
       "      <td>48000</td>\n",
       "      <td>3</td>\n",
       "    </tr>\n",
       "    <tr>\n",
       "      <th>4</th>\n",
       "      <td>mobile-developer</td>\n",
       "      <td>0</td>\n",
       "      <td>2</td>\n",
       "      <td>48000</td>\n",
       "      <td>3</td>\n",
       "    </tr>\n",
       "  </tbody>\n",
       "</table>\n",
       "</div>"
      ]
     },
     "execution_count": 11,
     "metadata": {},
     "output_type": "execute_result"
    }
   ],
   "execution_count": 11
  },
  {
   "cell_type": "code",
   "metadata": {
    "application/vnd.databricks.v1+cell": {
     "cellMetadata": {
      "byteLimit": 2048000,
      "rowLimit": 10000
     },
     "inputWidgets": {},
     "nuid": "61c65b3e-ab2e-49db-bbc3-68f5696cd34e",
     "showTitle": false,
     "title": ""
    },
    "ExecuteTime": {
     "end_time": "2024-07-15T15:36:04.222858Z",
     "start_time": "2024-07-15T15:36:04.217886Z"
    }
   },
   "source": [
    "pdf_job_job_roles_all[\"indicator\"] = 1\n",
    "pdf_talent_job_roles_all[\"indicator\"] = 1"
   ],
   "outputs": [],
   "execution_count": 12
  },
  {
   "cell_type": "code",
   "metadata": {
    "application/vnd.databricks.v1+cell": {
     "cellMetadata": {
      "byteLimit": 2048000,
      "rowLimit": 10000
     },
     "inputWidgets": {},
     "nuid": "5a59781c-4dcd-4bf8-b72c-5e11ba6c073c",
     "showTitle": false,
     "title": ""
    },
    "ExecuteTime": {
     "end_time": "2024-07-15T15:36:04.558927Z",
     "start_time": "2024-07-15T15:36:04.537722Z"
    }
   },
   "source": [
    "pdf_job_job_roles_all_wide = pdf_job_job_roles_all.pivot(index=['id', 'salary', \"degree\", \"seniority_rank\"], columns='job_role', values=\"indicator\").fillna(0).reset_index()\n",
    "pdf_talent_job_roles_all_wide = pdf_talent_job_roles_all.pivot(index=['id', 'salary', 'degree', \"seniority_rank\"], columns='job_role', values=\"indicator\").fillna(0).reset_index()"
   ],
   "outputs": [],
   "execution_count": 13
  },
  {
   "cell_type": "code",
   "metadata": {
    "application/vnd.databricks.v1+cell": {
     "cellMetadata": {
      "byteLimit": 2048000,
      "rowLimit": 10000
     },
     "inputWidgets": {},
     "nuid": "64abcbd7-cd79-4aea-b0eb-6439b3ec912b",
     "showTitle": false,
     "title": ""
    },
    "ExecuteTime": {
     "end_time": "2024-07-15T15:36:05.245896Z",
     "start_time": "2024-07-15T15:36:05.243190Z"
    }
   },
   "source": [
    "# filter out not seeked job roles (for the sake of sparing some variables) (maybe try both)\n",
    "pdf_talent_job_roles_all_wide = pdf_talent_job_roles_all_wide[list(pdf_job_job_roles_all_wide)]"
   ],
   "outputs": [],
   "execution_count": 14
  },
  {
   "cell_type": "code",
   "metadata": {
    "application/vnd.databricks.v1+cell": {
     "cellMetadata": {
      "byteLimit": 2048000,
      "rowLimit": 10000
     },
     "inputWidgets": {},
     "nuid": "6936829a-0f2f-4244-bbd9-7c5d04c62918",
     "showTitle": false,
     "title": ""
    },
    "ExecuteTime": {
     "end_time": "2024-07-15T15:36:05.515246Z",
     "start_time": "2024-07-15T15:36:05.513495Z"
    }
   },
   "source": [
    "rel_jobs = list(pdf_job_job_roles_all_wide)[4:]"
   ],
   "outputs": [],
   "execution_count": 15
  },
  {
   "cell_type": "code",
   "metadata": {
    "application/vnd.databricks.v1+cell": {
     "cellMetadata": {
      "byteLimit": 2048000,
      "rowLimit": 10000
     },
     "inputWidgets": {},
     "nuid": "bcfa04ee-6733-42bd-9d27-f3f1f9b4e4ae",
     "showTitle": false,
     "title": ""
    },
    "ExecuteTime": {
     "end_time": "2024-07-15T15:36:05.736753Z",
     "start_time": "2024-07-15T15:36:05.734259Z"
    }
   },
   "source": [
    "len(pdf_talent_job_roles_all_wide)"
   ],
   "outputs": [
    {
     "data": {
      "text/plain": [
       "2000"
      ]
     },
     "execution_count": 16,
     "metadata": {},
     "output_type": "execute_result"
    }
   ],
   "execution_count": 16
  },
  {
   "cell_type": "code",
   "metadata": {
    "application/vnd.databricks.v1+cell": {
     "cellMetadata": {
      "byteLimit": 2048000,
      "rowLimit": 10000
     },
     "inputWidgets": {},
     "nuid": "b2b1ac76-1ee8-4f99-826a-8f1821c2aba1",
     "showTitle": false,
     "title": ""
    },
    "ExecuteTime": {
     "end_time": "2024-07-15T15:36:06.335760Z",
     "start_time": "2024-07-15T15:36:06.333713Z"
    }
   },
   "source": [
    "len(pdf_job_job_roles_all_wide)"
   ],
   "outputs": [
    {
     "data": {
      "text/plain": [
       "2000"
      ]
     },
     "execution_count": 17,
     "metadata": {},
     "output_type": "execute_result"
    }
   ],
   "execution_count": 17
  },
  {
   "cell_type": "code",
   "metadata": {
    "application/vnd.databricks.v1+cell": {
     "cellMetadata": {
      "byteLimit": 2048000,
      "rowLimit": 10000
     },
     "inputWidgets": {},
     "nuid": "9166c7ef-b1fd-4c38-a8ce-be55c25f3ba3",
     "showTitle": false,
     "title": ""
    },
    "ExecuteTime": {
     "end_time": "2024-07-15T15:36:07.073613Z",
     "start_time": "2024-07-15T15:36:07.069978Z"
    }
   },
   "source": [
    "pdf_features = pdf_talent_job_roles_all_wide.join(pdf_job_job_roles_all_wide, on=\"id\", how=\"inner\", lsuffix=\"_TALENT\", rsuffix=\"_JOB\").drop([\"id_TALENT\", \"id_JOB\"], axis=1)"
   ],
   "outputs": [],
   "execution_count": 18
  },
  {
   "cell_type": "code",
   "metadata": {
    "application/vnd.databricks.v1+cell": {
     "cellMetadata": {
      "byteLimit": 2048000,
      "rowLimit": 10000
     },
     "inputWidgets": {},
     "nuid": "6c7fdc2b-e8a1-46a2-8b39-f8cb56fff3bd",
     "showTitle": false,
     "title": ""
    },
    "ExecuteTime": {
     "end_time": "2024-07-15T15:36:07.618156Z",
     "start_time": "2024-07-15T15:36:07.606769Z"
    }
   },
   "source": [
    "pdf_features"
   ],
   "outputs": [
    {
     "data": {
      "text/plain": [
       "job_role    id  salary_TALENT  degree_TALENT  seniority_rank_TALENT  \\\n",
       "0            0          48000              3                      2   \n",
       "1            1          44000              4                      2   \n",
       "2            2          40000              1                      4   \n",
       "3            3          46000              2                      2   \n",
       "4            4          75000              4                      3   \n",
       "...        ...            ...            ...                    ...   \n",
       "1995      1995         101250              2                      3   \n",
       "1996      1996          62639              3                      1   \n",
       "1997      1997          99220              3                      2   \n",
       "1998      1998          73440              3                      2   \n",
       "1999      1999         100100              3                      4   \n",
       "\n",
       "job_role  backend-developer_TALENT  business-analyst_TALENT  \\\n",
       "0                              1.0                      0.0   \n",
       "1                              0.0                      0.0   \n",
       "2                              1.0                      0.0   \n",
       "3                              1.0                      0.0   \n",
       "4                              1.0                      0.0   \n",
       "...                            ...                      ...   \n",
       "1995                           0.0                      0.0   \n",
       "1996                           0.0                      0.0   \n",
       "1997                           0.0                      0.0   \n",
       "1998                           0.0                      0.0   \n",
       "1999                           1.0                      0.0   \n",
       "\n",
       "job_role  business-development-manager_TALENT  c-c-developer_TALENT  \\\n",
       "0                                         0.0                   0.0   \n",
       "1                                         0.0                   1.0   \n",
       "2                                         0.0                   0.0   \n",
       "3                                         0.0                   0.0   \n",
       "4                                         0.0                   0.0   \n",
       "...                                       ...                   ...   \n",
       "1995                                      0.0                   0.0   \n",
       "1996                                      1.0                   0.0   \n",
       "1997                                      0.0                   1.0   \n",
       "1998                                      0.0                   0.0   \n",
       "1999                                      0.0                   0.0   \n",
       "\n",
       "job_role  c-net-developer_TALENT  cloud-engineer_TALENT  ...  \\\n",
       "0                            0.0                    0.0  ...   \n",
       "1                            0.0                    0.0  ...   \n",
       "2                            0.0                    0.0  ...   \n",
       "3                            1.0                    0.0  ...   \n",
       "4                            0.0                    0.0  ...   \n",
       "...                          ...                    ...  ...   \n",
       "1995                         0.0                    1.0  ...   \n",
       "1996                         0.0                    0.0  ...   \n",
       "1997                         0.0                    0.0  ...   \n",
       "1998                         0.0                    0.0  ...   \n",
       "1999                         0.0                    0.0  ...   \n",
       "\n",
       "job_role  product-owner_JOB  project-manager_JOB  qa-engineer_JOB  \\\n",
       "0                       0.0                  0.0              0.0   \n",
       "1                       0.0                  0.0              0.0   \n",
       "2                       0.0                  0.0              0.0   \n",
       "3                       0.0                  0.0              0.0   \n",
       "4                       0.0                  0.0              0.0   \n",
       "...                     ...                  ...              ...   \n",
       "1995                    0.0                  0.0              0.0   \n",
       "1996                    0.0                  0.0              0.0   \n",
       "1997                    0.0                  0.0              0.0   \n",
       "1998                    0.0                  0.0              0.0   \n",
       "1999                    0.0                  0.0              0.0   \n",
       "\n",
       "job_role  sales-manager_JOB  scrum-master-agile-coach_JOB  security_JOB  \\\n",
       "0                       0.0                           0.0           0.0   \n",
       "1                       0.0                           0.0           0.0   \n",
       "2                       0.0                           0.0           0.0   \n",
       "3                       0.0                           0.0           0.0   \n",
       "4                       0.0                           0.0           0.0   \n",
       "...                     ...                           ...           ...   \n",
       "1995                    1.0                           0.0           0.0   \n",
       "1996                    1.0                           0.0           0.0   \n",
       "1997                    0.0                           0.0           0.0   \n",
       "1998                    0.0                           0.0           0.0   \n",
       "1999                    0.0                           0.0           0.0   \n",
       "\n",
       "job_role  software-architect_JOB  system-administrator_JOB  \\\n",
       "0                            0.0                       0.0   \n",
       "1                            0.0                       0.0   \n",
       "2                            0.0                       0.0   \n",
       "3                            0.0                       0.0   \n",
       "4                            0.0                       0.0   \n",
       "...                          ...                       ...   \n",
       "1995                         0.0                       0.0   \n",
       "1996                         0.0                       0.0   \n",
       "1997                         0.0                       0.0   \n",
       "1998                         0.0                       0.0   \n",
       "1999                         0.0                       0.0   \n",
       "\n",
       "job_role  system-engineer_JOB  tech-lead_JOB  \n",
       "0                         0.0            0.0  \n",
       "1                         0.0            0.0  \n",
       "2                         0.0            0.0  \n",
       "3                         0.0            0.0  \n",
       "4                         0.0            0.0  \n",
       "...                       ...            ...  \n",
       "1995                      0.0            0.0  \n",
       "1996                      0.0            0.0  \n",
       "1997                      0.0            0.0  \n",
       "1998                      0.0            0.0  \n",
       "1999                      0.0            0.0  \n",
       "\n",
       "[2000 rows x 73 columns]"
      ],
      "text/html": [
       "<div>\n",
       "<style scoped>\n",
       "    .dataframe tbody tr th:only-of-type {\n",
       "        vertical-align: middle;\n",
       "    }\n",
       "\n",
       "    .dataframe tbody tr th {\n",
       "        vertical-align: top;\n",
       "    }\n",
       "\n",
       "    .dataframe thead th {\n",
       "        text-align: right;\n",
       "    }\n",
       "</style>\n",
       "<table border=\"1\" class=\"dataframe\">\n",
       "  <thead>\n",
       "    <tr style=\"text-align: right;\">\n",
       "      <th>job_role</th>\n",
       "      <th>id</th>\n",
       "      <th>salary_TALENT</th>\n",
       "      <th>degree_TALENT</th>\n",
       "      <th>seniority_rank_TALENT</th>\n",
       "      <th>backend-developer_TALENT</th>\n",
       "      <th>business-analyst_TALENT</th>\n",
       "      <th>business-development-manager_TALENT</th>\n",
       "      <th>c-c-developer_TALENT</th>\n",
       "      <th>c-net-developer_TALENT</th>\n",
       "      <th>cloud-engineer_TALENT</th>\n",
       "      <th>...</th>\n",
       "      <th>product-owner_JOB</th>\n",
       "      <th>project-manager_JOB</th>\n",
       "      <th>qa-engineer_JOB</th>\n",
       "      <th>sales-manager_JOB</th>\n",
       "      <th>scrum-master-agile-coach_JOB</th>\n",
       "      <th>security_JOB</th>\n",
       "      <th>software-architect_JOB</th>\n",
       "      <th>system-administrator_JOB</th>\n",
       "      <th>system-engineer_JOB</th>\n",
       "      <th>tech-lead_JOB</th>\n",
       "    </tr>\n",
       "  </thead>\n",
       "  <tbody>\n",
       "    <tr>\n",
       "      <th>0</th>\n",
       "      <td>0</td>\n",
       "      <td>48000</td>\n",
       "      <td>3</td>\n",
       "      <td>2</td>\n",
       "      <td>1.0</td>\n",
       "      <td>0.0</td>\n",
       "      <td>0.0</td>\n",
       "      <td>0.0</td>\n",
       "      <td>0.0</td>\n",
       "      <td>0.0</td>\n",
       "      <td>...</td>\n",
       "      <td>0.0</td>\n",
       "      <td>0.0</td>\n",
       "      <td>0.0</td>\n",
       "      <td>0.0</td>\n",
       "      <td>0.0</td>\n",
       "      <td>0.0</td>\n",
       "      <td>0.0</td>\n",
       "      <td>0.0</td>\n",
       "      <td>0.0</td>\n",
       "      <td>0.0</td>\n",
       "    </tr>\n",
       "    <tr>\n",
       "      <th>1</th>\n",
       "      <td>1</td>\n",
       "      <td>44000</td>\n",
       "      <td>4</td>\n",
       "      <td>2</td>\n",
       "      <td>0.0</td>\n",
       "      <td>0.0</td>\n",
       "      <td>0.0</td>\n",
       "      <td>1.0</td>\n",
       "      <td>0.0</td>\n",
       "      <td>0.0</td>\n",
       "      <td>...</td>\n",
       "      <td>0.0</td>\n",
       "      <td>0.0</td>\n",
       "      <td>0.0</td>\n",
       "      <td>0.0</td>\n",
       "      <td>0.0</td>\n",
       "      <td>0.0</td>\n",
       "      <td>0.0</td>\n",
       "      <td>0.0</td>\n",
       "      <td>0.0</td>\n",
       "      <td>0.0</td>\n",
       "    </tr>\n",
       "    <tr>\n",
       "      <th>2</th>\n",
       "      <td>2</td>\n",
       "      <td>40000</td>\n",
       "      <td>1</td>\n",
       "      <td>4</td>\n",
       "      <td>1.0</td>\n",
       "      <td>0.0</td>\n",
       "      <td>0.0</td>\n",
       "      <td>0.0</td>\n",
       "      <td>0.0</td>\n",
       "      <td>0.0</td>\n",
       "      <td>...</td>\n",
       "      <td>0.0</td>\n",
       "      <td>0.0</td>\n",
       "      <td>0.0</td>\n",
       "      <td>0.0</td>\n",
       "      <td>0.0</td>\n",
       "      <td>0.0</td>\n",
       "      <td>0.0</td>\n",
       "      <td>0.0</td>\n",
       "      <td>0.0</td>\n",
       "      <td>0.0</td>\n",
       "    </tr>\n",
       "    <tr>\n",
       "      <th>3</th>\n",
       "      <td>3</td>\n",
       "      <td>46000</td>\n",
       "      <td>2</td>\n",
       "      <td>2</td>\n",
       "      <td>1.0</td>\n",
       "      <td>0.0</td>\n",
       "      <td>0.0</td>\n",
       "      <td>0.0</td>\n",
       "      <td>1.0</td>\n",
       "      <td>0.0</td>\n",
       "      <td>...</td>\n",
       "      <td>0.0</td>\n",
       "      <td>0.0</td>\n",
       "      <td>0.0</td>\n",
       "      <td>0.0</td>\n",
       "      <td>0.0</td>\n",
       "      <td>0.0</td>\n",
       "      <td>0.0</td>\n",
       "      <td>0.0</td>\n",
       "      <td>0.0</td>\n",
       "      <td>0.0</td>\n",
       "    </tr>\n",
       "    <tr>\n",
       "      <th>4</th>\n",
       "      <td>4</td>\n",
       "      <td>75000</td>\n",
       "      <td>4</td>\n",
       "      <td>3</td>\n",
       "      <td>1.0</td>\n",
       "      <td>0.0</td>\n",
       "      <td>0.0</td>\n",
       "      <td>0.0</td>\n",
       "      <td>0.0</td>\n",
       "      <td>0.0</td>\n",
       "      <td>...</td>\n",
       "      <td>0.0</td>\n",
       "      <td>0.0</td>\n",
       "      <td>0.0</td>\n",
       "      <td>0.0</td>\n",
       "      <td>0.0</td>\n",
       "      <td>0.0</td>\n",
       "      <td>0.0</td>\n",
       "      <td>0.0</td>\n",
       "      <td>0.0</td>\n",
       "      <td>0.0</td>\n",
       "    </tr>\n",
       "    <tr>\n",
       "      <th>...</th>\n",
       "      <td>...</td>\n",
       "      <td>...</td>\n",
       "      <td>...</td>\n",
       "      <td>...</td>\n",
       "      <td>...</td>\n",
       "      <td>...</td>\n",
       "      <td>...</td>\n",
       "      <td>...</td>\n",
       "      <td>...</td>\n",
       "      <td>...</td>\n",
       "      <td>...</td>\n",
       "      <td>...</td>\n",
       "      <td>...</td>\n",
       "      <td>...</td>\n",
       "      <td>...</td>\n",
       "      <td>...</td>\n",
       "      <td>...</td>\n",
       "      <td>...</td>\n",
       "      <td>...</td>\n",
       "      <td>...</td>\n",
       "      <td>...</td>\n",
       "    </tr>\n",
       "    <tr>\n",
       "      <th>1995</th>\n",
       "      <td>1995</td>\n",
       "      <td>101250</td>\n",
       "      <td>2</td>\n",
       "      <td>3</td>\n",
       "      <td>0.0</td>\n",
       "      <td>0.0</td>\n",
       "      <td>0.0</td>\n",
       "      <td>0.0</td>\n",
       "      <td>0.0</td>\n",
       "      <td>1.0</td>\n",
       "      <td>...</td>\n",
       "      <td>0.0</td>\n",
       "      <td>0.0</td>\n",
       "      <td>0.0</td>\n",
       "      <td>1.0</td>\n",
       "      <td>0.0</td>\n",
       "      <td>0.0</td>\n",
       "      <td>0.0</td>\n",
       "      <td>0.0</td>\n",
       "      <td>0.0</td>\n",
       "      <td>0.0</td>\n",
       "    </tr>\n",
       "    <tr>\n",
       "      <th>1996</th>\n",
       "      <td>1996</td>\n",
       "      <td>62639</td>\n",
       "      <td>3</td>\n",
       "      <td>1</td>\n",
       "      <td>0.0</td>\n",
       "      <td>0.0</td>\n",
       "      <td>1.0</td>\n",
       "      <td>0.0</td>\n",
       "      <td>0.0</td>\n",
       "      <td>0.0</td>\n",
       "      <td>...</td>\n",
       "      <td>0.0</td>\n",
       "      <td>0.0</td>\n",
       "      <td>0.0</td>\n",
       "      <td>1.0</td>\n",
       "      <td>0.0</td>\n",
       "      <td>0.0</td>\n",
       "      <td>0.0</td>\n",
       "      <td>0.0</td>\n",
       "      <td>0.0</td>\n",
       "      <td>0.0</td>\n",
       "    </tr>\n",
       "    <tr>\n",
       "      <th>1997</th>\n",
       "      <td>1997</td>\n",
       "      <td>99220</td>\n",
       "      <td>3</td>\n",
       "      <td>2</td>\n",
       "      <td>0.0</td>\n",
       "      <td>0.0</td>\n",
       "      <td>0.0</td>\n",
       "      <td>1.0</td>\n",
       "      <td>0.0</td>\n",
       "      <td>0.0</td>\n",
       "      <td>...</td>\n",
       "      <td>0.0</td>\n",
       "      <td>0.0</td>\n",
       "      <td>0.0</td>\n",
       "      <td>0.0</td>\n",
       "      <td>0.0</td>\n",
       "      <td>0.0</td>\n",
       "      <td>0.0</td>\n",
       "      <td>0.0</td>\n",
       "      <td>0.0</td>\n",
       "      <td>0.0</td>\n",
       "    </tr>\n",
       "    <tr>\n",
       "      <th>1998</th>\n",
       "      <td>1998</td>\n",
       "      <td>73440</td>\n",
       "      <td>3</td>\n",
       "      <td>2</td>\n",
       "      <td>0.0</td>\n",
       "      <td>0.0</td>\n",
       "      <td>0.0</td>\n",
       "      <td>0.0</td>\n",
       "      <td>0.0</td>\n",
       "      <td>0.0</td>\n",
       "      <td>...</td>\n",
       "      <td>0.0</td>\n",
       "      <td>0.0</td>\n",
       "      <td>0.0</td>\n",
       "      <td>0.0</td>\n",
       "      <td>0.0</td>\n",
       "      <td>0.0</td>\n",
       "      <td>0.0</td>\n",
       "      <td>0.0</td>\n",
       "      <td>0.0</td>\n",
       "      <td>0.0</td>\n",
       "    </tr>\n",
       "    <tr>\n",
       "      <th>1999</th>\n",
       "      <td>1999</td>\n",
       "      <td>100100</td>\n",
       "      <td>3</td>\n",
       "      <td>4</td>\n",
       "      <td>1.0</td>\n",
       "      <td>0.0</td>\n",
       "      <td>0.0</td>\n",
       "      <td>0.0</td>\n",
       "      <td>0.0</td>\n",
       "      <td>0.0</td>\n",
       "      <td>...</td>\n",
       "      <td>0.0</td>\n",
       "      <td>0.0</td>\n",
       "      <td>0.0</td>\n",
       "      <td>0.0</td>\n",
       "      <td>0.0</td>\n",
       "      <td>0.0</td>\n",
       "      <td>0.0</td>\n",
       "      <td>0.0</td>\n",
       "      <td>0.0</td>\n",
       "      <td>0.0</td>\n",
       "    </tr>\n",
       "  </tbody>\n",
       "</table>\n",
       "<p>2000 rows × 73 columns</p>\n",
       "</div>"
      ]
     },
     "execution_count": 19,
     "metadata": {},
     "output_type": "execute_result"
    }
   ],
   "execution_count": 19
  },
  {
   "cell_type": "code",
   "metadata": {
    "application/vnd.databricks.v1+cell": {
     "cellMetadata": {
      "byteLimit": 2048000,
      "rowLimit": 10000
     },
     "inputWidgets": {},
     "nuid": "eed38389-fd9f-4156-9842-4ca318fa97a7",
     "showTitle": false,
     "title": ""
    },
    "ExecuteTime": {
     "end_time": "2024-07-15T15:36:08.698991Z",
     "start_time": "2024-07-15T15:36:08.695515Z"
    }
   },
   "source": [
    "rel_jobs"
   ],
   "outputs": [
    {
     "data": {
      "text/plain": [
       "['backend-developer',\n",
       " 'business-analyst',\n",
       " 'business-development-manager',\n",
       " 'c-c-developer',\n",
       " 'c-net-developer',\n",
       " 'cloud-engineer',\n",
       " 'consulting',\n",
       " 'content-marketing-manager',\n",
       " 'customer-success-manager',\n",
       " 'data-analyst',\n",
       " 'data-engineer',\n",
       " 'data-scientist',\n",
       " 'devops-engineer',\n",
       " 'engineering-manager',\n",
       " 'frontend-developer',\n",
       " 'full-stack-developer',\n",
       " 'java-developer',\n",
       " 'key-account-manager',\n",
       " 'mobile-developer',\n",
       " 'online-marketing-manager',\n",
       " 'performance-marketing-manager',\n",
       " 'php-developer',\n",
       " 'presales-manager',\n",
       " 'product-owner',\n",
       " 'project-manager',\n",
       " 'qa-engineer',\n",
       " 'sales-manager',\n",
       " 'scrum-master-agile-coach',\n",
       " 'security',\n",
       " 'software-architect',\n",
       " 'system-administrator',\n",
       " 'system-engineer',\n",
       " 'tech-lead']"
      ]
     },
     "execution_count": 20,
     "metadata": {},
     "output_type": "execute_result"
    }
   ],
   "execution_count": 20
  },
  {
   "cell_type": "code",
   "metadata": {
    "application/vnd.databricks.v1+cell": {
     "cellMetadata": {
      "byteLimit": 2048000,
      "rowLimit": 10000
     },
     "inputWidgets": {},
     "nuid": "8412046b-21c3-4ad6-8c8a-f1a579889acf",
     "showTitle": false,
     "title": ""
    },
    "ExecuteTime": {
     "end_time": "2024-07-15T15:36:09.350564Z",
     "start_time": "2024-07-15T15:36:09.335501Z"
    }
   },
   "source": [
    "pdf_features_final = pdf_features.merge(pdf_talent_languages_required_wide, on=\"id\", how=\"left\")\n",
    "pdf_features_final = pdf_features_final.merge(pdf_job_languages_must_have_wide, on=\"id\", how=\"left\")\n",
    "pdf_features_final = pdf_features_final.merge(pdf_job_languages_should_have_wide, on=\"id\", how=\"left\")\n",
    "pdf_features_final = pdf_features_final.fillna(0)\n",
    "\n",
    "\n",
    "rel_jobs_talent = [f\"{rel_job}_TALENT\" for rel_job in rel_jobs]\n",
    "rel_jobs_job = [f\"{rel_job}_JOB\" for rel_job in rel_jobs]\n",
    "# perform some feature engineering\n",
    "\n",
    "pdf_features_final[\"salary_discrepancy\"] = pdf_features_final[\"salary_TALENT\"] - pdf_features_final[\"salary_JOB\"]\n",
    "pdf_features_final[\"degree_discrepancy\"] = pdf_features_final[\"degree_TALENT\"] - pdf_features_final[\"degree_JOB\"]\n",
    "pdf_features_final[\"seniority_rank_discrepancy\"] = pdf_features_final[\"seniority_rank_TALENT\"] - pdf_features_final[\"seniority_rank_JOB\"]\n",
    "pdf_features_final[\"German_must_have_discrepancy\"] = pdf_features_final[\"German_must_have_JOB\"] - pdf_features_final[\"German_TALENT\"]\n",
    "pdf_features_final[\"English_must_have_discrepancy\"] = pdf_features_final[\"English_must_have_JOB\"] - pdf_features_final[\"English_TALENT\"]\n",
    "pdf_features_final[\"German_should_have_discrepancy\"] = pdf_features_final[\"German_should_have_JOB\"] - pdf_features_final[\"German_TALENT\"]\n",
    "pdf_features_final[\"English_should_have_discrepancy\"] = pdf_features_final[\"English_should_have_JOB\"] - pdf_features_final[\"English_TALENT\"]\n",
    "\n",
    "role_match = pd.DataFrame(pdf_features_final[rel_jobs_talent].to_numpy() * pdf_features_final[rel_jobs_job].to_numpy(), columns=rel_jobs)\n",
    "pdf_features_final[\"p_role_match\"] = role_match.sum(axis=1) / pdf_features_final[rel_jobs_job].sum(axis=1) \n",
    "\n",
    "pdf_features_final = pdf_features_final.merge(pdf_labels, on=\"id\", how=\"inner\")\n",
    "rel_features = [\"salary_TALENT\", \"degree_TALENT\", \"seniority_rank_TALENT\", \"salary_JOB\", \"degree_JOB\", \"seniority_rank_JOB\", \"number_of_languages_TALENT\", \"English_TALENT\", \"German_TALENT\", \"English_must_have_JOB\", \"German_must_have_JOB\", \"English_should_have_JOB\",\n",
    "\"German_should_have_JOB\", \"salary_discrepancy\", \"degree_discrepancy\", \"seniority_rank_discrepancy\", \"German_must_have_discrepancy\", \"English_must_have_discrepancy\", \"German_should_have_discrepancy\", \"English_should_have_discrepancy\", \"p_role_match\"]"
   ],
   "outputs": [],
   "execution_count": 21
  },
  {
   "cell_type": "markdown",
   "metadata": {
    "application/vnd.databricks.v1+cell": {
     "cellMetadata": {},
     "inputWidgets": {},
     "nuid": "79f4f7b7-0790-47da-9658-55f4c9a3f005",
     "showTitle": false,
     "title": ""
    }
   },
   "source": [
    "\n",
    "## Modeling"
   ]
  },
  {
   "cell_type": "code",
   "metadata": {
    "application/vnd.databricks.v1+cell": {
     "cellMetadata": {
      "byteLimit": 2048000,
      "rowLimit": 10000
     },
     "inputWidgets": {},
     "nuid": "9082c5ab-e36b-4174-b15f-f5a6dd6cbcad",
     "showTitle": false,
     "title": ""
    },
    "ExecuteTime": {
     "end_time": "2024-07-15T15:36:10.269573Z",
     "start_time": "2024-07-15T15:36:10.267156Z"
    }
   },
   "source": [
    "X = pdf_features_final[rel_features]\n",
    "y = pdf_features_final[\"label\"]"
   ],
   "outputs": [],
   "execution_count": 22
  },
  {
   "cell_type": "code",
   "metadata": {
    "application/vnd.databricks.v1+cell": {
     "cellMetadata": {
      "byteLimit": 2048000,
      "rowLimit": 10000
     },
     "inputWidgets": {},
     "nuid": "128e8d0c-9421-4a59-b744-860a3b02c9f0",
     "showTitle": false,
     "title": ""
    },
    "ExecuteTime": {
     "end_time": "2024-07-15T15:36:11.545674Z",
     "start_time": "2024-07-15T15:36:10.855342Z"
    }
   },
   "source": [
    "from sklearn.model_selection import train_test_split\n",
    "\n",
    "X_train, X_test, y_train, y_test = train_test_split(\n",
    "    X, y, test_size=0.20, random_state=42, stratify=y, shuffle=True)"
   ],
   "outputs": [],
   "execution_count": 23
  },
  {
   "cell_type": "code",
   "metadata": {
    "application/vnd.databricks.v1+cell": {
     "cellMetadata": {
      "byteLimit": 2048000,
      "rowLimit": 10000
     },
     "inputWidgets": {},
     "nuid": "fdd9f3aa-2686-4731-9b8b-5c23ae421edd",
     "showTitle": false,
     "title": ""
    },
    "ExecuteTime": {
     "end_time": "2024-07-15T15:36:12.757204Z",
     "start_time": "2024-07-15T15:36:12.743256Z"
    }
   },
   "source": [
    "X_train"
   ],
   "outputs": [
    {
     "data": {
      "text/plain": [
       "      salary_TALENT  degree_TALENT  seniority_rank_TALENT  salary_JOB  \\\n",
       "478           70000              2                      4      100000   \n",
       "488           46000              3                      2       65000   \n",
       "1499          81900              1                      4       70000   \n",
       "1605          65000              2                      1       70000   \n",
       "511           60000              4                      2       82000   \n",
       "...             ...            ...                    ...         ...   \n",
       "240           25000              4                      4       80000   \n",
       "1452          87500              1                      4       70000   \n",
       "248           55000              3                      3       70000   \n",
       "303           55000              3                      2       54000   \n",
       "529           50000              1                      4       75000   \n",
       "\n",
       "      degree_JOB  seniority_rank_JOB  number_of_languages_TALENT  \\\n",
       "478            1                 3.5                           3   \n",
       "488            3                 2.0                           3   \n",
       "1499           5                 2.5                           5   \n",
       "1605           5                 3.0                           2   \n",
       "511            3                 2.5                           4   \n",
       "...          ...                 ...                         ...   \n",
       "240            4                 3.5                           3   \n",
       "1452           5                 2.5                           3   \n",
       "248            1                 2.5                           4   \n",
       "303            1                 1.5                           3   \n",
       "529            1                 3.0                           5   \n",
       "\n",
       "      English_TALENT  German_TALENT  English_must_have_JOB  ...  \\\n",
       "478              5.0            5.0                    0.0  ...   \n",
       "488              4.0            6.0                    0.0  ...   \n",
       "1499             1.0            3.0                    4.0  ...   \n",
       "1605             3.0            1.0                    0.0  ...   \n",
       "511              5.0            6.0                    0.0  ...   \n",
       "...              ...            ...                    ...  ...   \n",
       "240              6.0            6.0                    0.0  ...   \n",
       "1452             4.0            5.0                    5.0  ...   \n",
       "248              5.0            6.0                    4.0  ...   \n",
       "303              6.0            6.0                    0.0  ...   \n",
       "529              6.0            6.0                    0.0  ...   \n",
       "\n",
       "      English_should_have_JOB  German_should_have_JOB  salary_discrepancy  \\\n",
       "478                       4.0                     0.0              -30000   \n",
       "488                       5.0                     0.0              -19000   \n",
       "1499                      0.0                     0.0               11900   \n",
       "1605                      0.0                     0.0               -5000   \n",
       "511                       0.0                     0.0              -22000   \n",
       "...                       ...                     ...                 ...   \n",
       "240                       5.0                     0.0              -55000   \n",
       "1452                      0.0                     0.0               17500   \n",
       "248                       0.0                     0.0              -15000   \n",
       "303                       0.0                     0.0                1000   \n",
       "529                       0.0                     0.0              -25000   \n",
       "\n",
       "      degree_discrepancy  seniority_rank_discrepancy  \\\n",
       "478                    1                         0.5   \n",
       "488                    0                         0.0   \n",
       "1499                  -4                         1.5   \n",
       "1605                  -3                        -2.0   \n",
       "511                    1                        -0.5   \n",
       "...                  ...                         ...   \n",
       "240                    0                         0.5   \n",
       "1452                  -4                         1.5   \n",
       "248                    2                         0.5   \n",
       "303                    2                         0.5   \n",
       "529                    0                         1.0   \n",
       "\n",
       "      German_must_have_discrepancy  English_must_have_discrepancy  \\\n",
       "478                            0.0                           -5.0   \n",
       "488                            0.0                           -4.0   \n",
       "1499                           2.0                            3.0   \n",
       "1605                           5.0                           -3.0   \n",
       "511                           -1.0                           -5.0   \n",
       "...                            ...                            ...   \n",
       "240                           -1.0                           -6.0   \n",
       "1452                           1.0                            1.0   \n",
       "248                           -1.0                           -1.0   \n",
       "303                            0.0                           -6.0   \n",
       "529                           -1.0                           -6.0   \n",
       "\n",
       "      German_should_have_discrepancy  English_should_have_discrepancy  \\\n",
       "478                             -5.0                             -1.0   \n",
       "488                             -6.0                              1.0   \n",
       "1499                            -3.0                             -1.0   \n",
       "1605                            -1.0                             -3.0   \n",
       "511                             -6.0                             -5.0   \n",
       "...                              ...                              ...   \n",
       "240                             -6.0                             -1.0   \n",
       "1452                            -5.0                             -4.0   \n",
       "248                             -6.0                             -5.0   \n",
       "303                             -6.0                             -6.0   \n",
       "529                             -6.0                             -6.0   \n",
       "\n",
       "      p_role_match  \n",
       "478            0.5  \n",
       "488            0.5  \n",
       "1499           0.0  \n",
       "1605           0.0  \n",
       "511            1.0  \n",
       "...            ...  \n",
       "240            1.0  \n",
       "1452           1.0  \n",
       "248            1.0  \n",
       "303            0.5  \n",
       "529            1.0  \n",
       "\n",
       "[1600 rows x 21 columns]"
      ],
      "text/html": [
       "<div>\n",
       "<style scoped>\n",
       "    .dataframe tbody tr th:only-of-type {\n",
       "        vertical-align: middle;\n",
       "    }\n",
       "\n",
       "    .dataframe tbody tr th {\n",
       "        vertical-align: top;\n",
       "    }\n",
       "\n",
       "    .dataframe thead th {\n",
       "        text-align: right;\n",
       "    }\n",
       "</style>\n",
       "<table border=\"1\" class=\"dataframe\">\n",
       "  <thead>\n",
       "    <tr style=\"text-align: right;\">\n",
       "      <th></th>\n",
       "      <th>salary_TALENT</th>\n",
       "      <th>degree_TALENT</th>\n",
       "      <th>seniority_rank_TALENT</th>\n",
       "      <th>salary_JOB</th>\n",
       "      <th>degree_JOB</th>\n",
       "      <th>seniority_rank_JOB</th>\n",
       "      <th>number_of_languages_TALENT</th>\n",
       "      <th>English_TALENT</th>\n",
       "      <th>German_TALENT</th>\n",
       "      <th>English_must_have_JOB</th>\n",
       "      <th>...</th>\n",
       "      <th>English_should_have_JOB</th>\n",
       "      <th>German_should_have_JOB</th>\n",
       "      <th>salary_discrepancy</th>\n",
       "      <th>degree_discrepancy</th>\n",
       "      <th>seniority_rank_discrepancy</th>\n",
       "      <th>German_must_have_discrepancy</th>\n",
       "      <th>English_must_have_discrepancy</th>\n",
       "      <th>German_should_have_discrepancy</th>\n",
       "      <th>English_should_have_discrepancy</th>\n",
       "      <th>p_role_match</th>\n",
       "    </tr>\n",
       "  </thead>\n",
       "  <tbody>\n",
       "    <tr>\n",
       "      <th>478</th>\n",
       "      <td>70000</td>\n",
       "      <td>2</td>\n",
       "      <td>4</td>\n",
       "      <td>100000</td>\n",
       "      <td>1</td>\n",
       "      <td>3.5</td>\n",
       "      <td>3</td>\n",
       "      <td>5.0</td>\n",
       "      <td>5.0</td>\n",
       "      <td>0.0</td>\n",
       "      <td>...</td>\n",
       "      <td>4.0</td>\n",
       "      <td>0.0</td>\n",
       "      <td>-30000</td>\n",
       "      <td>1</td>\n",
       "      <td>0.5</td>\n",
       "      <td>0.0</td>\n",
       "      <td>-5.0</td>\n",
       "      <td>-5.0</td>\n",
       "      <td>-1.0</td>\n",
       "      <td>0.5</td>\n",
       "    </tr>\n",
       "    <tr>\n",
       "      <th>488</th>\n",
       "      <td>46000</td>\n",
       "      <td>3</td>\n",
       "      <td>2</td>\n",
       "      <td>65000</td>\n",
       "      <td>3</td>\n",
       "      <td>2.0</td>\n",
       "      <td>3</td>\n",
       "      <td>4.0</td>\n",
       "      <td>6.0</td>\n",
       "      <td>0.0</td>\n",
       "      <td>...</td>\n",
       "      <td>5.0</td>\n",
       "      <td>0.0</td>\n",
       "      <td>-19000</td>\n",
       "      <td>0</td>\n",
       "      <td>0.0</td>\n",
       "      <td>0.0</td>\n",
       "      <td>-4.0</td>\n",
       "      <td>-6.0</td>\n",
       "      <td>1.0</td>\n",
       "      <td>0.5</td>\n",
       "    </tr>\n",
       "    <tr>\n",
       "      <th>1499</th>\n",
       "      <td>81900</td>\n",
       "      <td>1</td>\n",
       "      <td>4</td>\n",
       "      <td>70000</td>\n",
       "      <td>5</td>\n",
       "      <td>2.5</td>\n",
       "      <td>5</td>\n",
       "      <td>1.0</td>\n",
       "      <td>3.0</td>\n",
       "      <td>4.0</td>\n",
       "      <td>...</td>\n",
       "      <td>0.0</td>\n",
       "      <td>0.0</td>\n",
       "      <td>11900</td>\n",
       "      <td>-4</td>\n",
       "      <td>1.5</td>\n",
       "      <td>2.0</td>\n",
       "      <td>3.0</td>\n",
       "      <td>-3.0</td>\n",
       "      <td>-1.0</td>\n",
       "      <td>0.0</td>\n",
       "    </tr>\n",
       "    <tr>\n",
       "      <th>1605</th>\n",
       "      <td>65000</td>\n",
       "      <td>2</td>\n",
       "      <td>1</td>\n",
       "      <td>70000</td>\n",
       "      <td>5</td>\n",
       "      <td>3.0</td>\n",
       "      <td>2</td>\n",
       "      <td>3.0</td>\n",
       "      <td>1.0</td>\n",
       "      <td>0.0</td>\n",
       "      <td>...</td>\n",
       "      <td>0.0</td>\n",
       "      <td>0.0</td>\n",
       "      <td>-5000</td>\n",
       "      <td>-3</td>\n",
       "      <td>-2.0</td>\n",
       "      <td>5.0</td>\n",
       "      <td>-3.0</td>\n",
       "      <td>-1.0</td>\n",
       "      <td>-3.0</td>\n",
       "      <td>0.0</td>\n",
       "    </tr>\n",
       "    <tr>\n",
       "      <th>511</th>\n",
       "      <td>60000</td>\n",
       "      <td>4</td>\n",
       "      <td>2</td>\n",
       "      <td>82000</td>\n",
       "      <td>3</td>\n",
       "      <td>2.5</td>\n",
       "      <td>4</td>\n",
       "      <td>5.0</td>\n",
       "      <td>6.0</td>\n",
       "      <td>0.0</td>\n",
       "      <td>...</td>\n",
       "      <td>0.0</td>\n",
       "      <td>0.0</td>\n",
       "      <td>-22000</td>\n",
       "      <td>1</td>\n",
       "      <td>-0.5</td>\n",
       "      <td>-1.0</td>\n",
       "      <td>-5.0</td>\n",
       "      <td>-6.0</td>\n",
       "      <td>-5.0</td>\n",
       "      <td>1.0</td>\n",
       "    </tr>\n",
       "    <tr>\n",
       "      <th>...</th>\n",
       "      <td>...</td>\n",
       "      <td>...</td>\n",
       "      <td>...</td>\n",
       "      <td>...</td>\n",
       "      <td>...</td>\n",
       "      <td>...</td>\n",
       "      <td>...</td>\n",
       "      <td>...</td>\n",
       "      <td>...</td>\n",
       "      <td>...</td>\n",
       "      <td>...</td>\n",
       "      <td>...</td>\n",
       "      <td>...</td>\n",
       "      <td>...</td>\n",
       "      <td>...</td>\n",
       "      <td>...</td>\n",
       "      <td>...</td>\n",
       "      <td>...</td>\n",
       "      <td>...</td>\n",
       "      <td>...</td>\n",
       "      <td>...</td>\n",
       "    </tr>\n",
       "    <tr>\n",
       "      <th>240</th>\n",
       "      <td>25000</td>\n",
       "      <td>4</td>\n",
       "      <td>4</td>\n",
       "      <td>80000</td>\n",
       "      <td>4</td>\n",
       "      <td>3.5</td>\n",
       "      <td>3</td>\n",
       "      <td>6.0</td>\n",
       "      <td>6.0</td>\n",
       "      <td>0.0</td>\n",
       "      <td>...</td>\n",
       "      <td>5.0</td>\n",
       "      <td>0.0</td>\n",
       "      <td>-55000</td>\n",
       "      <td>0</td>\n",
       "      <td>0.5</td>\n",
       "      <td>-1.0</td>\n",
       "      <td>-6.0</td>\n",
       "      <td>-6.0</td>\n",
       "      <td>-1.0</td>\n",
       "      <td>1.0</td>\n",
       "    </tr>\n",
       "    <tr>\n",
       "      <th>1452</th>\n",
       "      <td>87500</td>\n",
       "      <td>1</td>\n",
       "      <td>4</td>\n",
       "      <td>70000</td>\n",
       "      <td>5</td>\n",
       "      <td>2.5</td>\n",
       "      <td>3</td>\n",
       "      <td>4.0</td>\n",
       "      <td>5.0</td>\n",
       "      <td>5.0</td>\n",
       "      <td>...</td>\n",
       "      <td>0.0</td>\n",
       "      <td>0.0</td>\n",
       "      <td>17500</td>\n",
       "      <td>-4</td>\n",
       "      <td>1.5</td>\n",
       "      <td>1.0</td>\n",
       "      <td>1.0</td>\n",
       "      <td>-5.0</td>\n",
       "      <td>-4.0</td>\n",
       "      <td>1.0</td>\n",
       "    </tr>\n",
       "    <tr>\n",
       "      <th>248</th>\n",
       "      <td>55000</td>\n",
       "      <td>3</td>\n",
       "      <td>3</td>\n",
       "      <td>70000</td>\n",
       "      <td>1</td>\n",
       "      <td>2.5</td>\n",
       "      <td>4</td>\n",
       "      <td>5.0</td>\n",
       "      <td>6.0</td>\n",
       "      <td>4.0</td>\n",
       "      <td>...</td>\n",
       "      <td>0.0</td>\n",
       "      <td>0.0</td>\n",
       "      <td>-15000</td>\n",
       "      <td>2</td>\n",
       "      <td>0.5</td>\n",
       "      <td>-1.0</td>\n",
       "      <td>-1.0</td>\n",
       "      <td>-6.0</td>\n",
       "      <td>-5.0</td>\n",
       "      <td>1.0</td>\n",
       "    </tr>\n",
       "    <tr>\n",
       "      <th>303</th>\n",
       "      <td>55000</td>\n",
       "      <td>3</td>\n",
       "      <td>2</td>\n",
       "      <td>54000</td>\n",
       "      <td>1</td>\n",
       "      <td>1.5</td>\n",
       "      <td>3</td>\n",
       "      <td>6.0</td>\n",
       "      <td>6.0</td>\n",
       "      <td>0.0</td>\n",
       "      <td>...</td>\n",
       "      <td>0.0</td>\n",
       "      <td>0.0</td>\n",
       "      <td>1000</td>\n",
       "      <td>2</td>\n",
       "      <td>0.5</td>\n",
       "      <td>0.0</td>\n",
       "      <td>-6.0</td>\n",
       "      <td>-6.0</td>\n",
       "      <td>-6.0</td>\n",
       "      <td>0.5</td>\n",
       "    </tr>\n",
       "    <tr>\n",
       "      <th>529</th>\n",
       "      <td>50000</td>\n",
       "      <td>1</td>\n",
       "      <td>4</td>\n",
       "      <td>75000</td>\n",
       "      <td>1</td>\n",
       "      <td>3.0</td>\n",
       "      <td>5</td>\n",
       "      <td>6.0</td>\n",
       "      <td>6.0</td>\n",
       "      <td>0.0</td>\n",
       "      <td>...</td>\n",
       "      <td>0.0</td>\n",
       "      <td>0.0</td>\n",
       "      <td>-25000</td>\n",
       "      <td>0</td>\n",
       "      <td>1.0</td>\n",
       "      <td>-1.0</td>\n",
       "      <td>-6.0</td>\n",
       "      <td>-6.0</td>\n",
       "      <td>-6.0</td>\n",
       "      <td>1.0</td>\n",
       "    </tr>\n",
       "  </tbody>\n",
       "</table>\n",
       "<p>1600 rows × 21 columns</p>\n",
       "</div>"
      ]
     },
     "execution_count": 24,
     "metadata": {},
     "output_type": "execute_result"
    }
   ],
   "execution_count": 24
  },
  {
   "cell_type": "code",
   "metadata": {
    "application/vnd.databricks.v1+cell": {
     "cellMetadata": {
      "byteLimit": 2048000,
      "rowLimit": 10000
     },
     "inputWidgets": {},
     "nuid": "c6bc2c7c-1c14-4b72-898d-03e454b2a1a9",
     "showTitle": false,
     "title": ""
    },
    "ExecuteTime": {
     "end_time": "2024-07-15T15:36:15.005704Z",
     "start_time": "2024-07-15T15:36:14.700619Z"
    }
   },
   "source": [
    "from sklearn.ensemble import GradientBoostingClassifier\n",
    "\n",
    "model = GradientBoostingClassifier(n_estimators=100, learning_rate=0.1,\n",
    "    max_depth=3, random_state=42).fit(X_train, y_train)"
   ],
   "outputs": [],
   "execution_count": 25
  },
  {
   "cell_type": "code",
   "metadata": {
    "application/vnd.databricks.v1+cell": {
     "cellMetadata": {
      "byteLimit": 2048000,
      "rowLimit": 10000
     },
     "inputWidgets": {},
     "nuid": "c89b5649-68ff-48e1-b6ca-2fd88572b950",
     "showTitle": false,
     "title": ""
    },
    "ExecuteTime": {
     "end_time": "2024-07-15T15:36:15.837500Z",
     "start_time": "2024-07-15T15:36:15.830805Z"
    }
   },
   "source": [
    "# accuracy on the hold out set\n",
    "model.score(X_test, y_test)"
   ],
   "outputs": [
    {
     "data": {
      "text/plain": [
       "0.9925"
      ]
     },
     "execution_count": 26,
     "metadata": {},
     "output_type": "execute_result"
    }
   ],
   "execution_count": 26
  },
  {
   "cell_type": "code",
   "metadata": {
    "application/vnd.databricks.v1+cell": {
     "cellMetadata": {
      "byteLimit": 2048000,
      "rowLimit": 10000
     },
     "inputWidgets": {},
     "nuid": "d3b10885-17cf-4f78-aa0f-8f59d08273e4",
     "showTitle": false,
     "title": ""
    },
    "ExecuteTime": {
     "end_time": "2024-07-15T15:36:19.257705Z",
     "start_time": "2024-07-15T15:36:19.253975Z"
    }
   },
   "source": [
    "model.feature_importances_"
   ],
   "outputs": [
    {
     "data": {
      "text/plain": [
       "array([3.59189936e-03, 1.37821940e-04, 2.24942317e-04, 3.19742105e-03,\n",
       "       5.76369497e-03, 2.85643715e-03, 0.00000000e+00, 4.13207357e-03,\n",
       "       4.19738785e-04, 3.46469012e-04, 7.12842375e-04, 2.92083610e-05,\n",
       "       0.00000000e+00, 1.79282333e-01, 2.33043469e-01, 4.96426390e-02,\n",
       "       7.78178846e-02, 8.28434890e-03, 3.03652464e-03, 1.63755670e-03,\n",
       "       4.25842695e-01])"
      ]
     },
     "execution_count": 27,
     "metadata": {},
     "output_type": "execute_result"
    }
   ],
   "execution_count": 27
  },
  {
   "metadata": {},
   "cell_type": "code",
   "outputs": [],
   "execution_count": null,
   "source": ""
  }
 ],
 "metadata": {
  "application/vnd.databricks.v1+notebook": {
   "dashboards": [],
   "environmentMetadata": null,
   "language": "python",
   "notebookMetadata": {
    "mostRecentlyExecutedCommandWithImplicitDF": {
     "commandId": 2840649069399200,
     "dataframes": [
      "_sqldf"
     ]
    },
    "pythonIndentUnit": 4
   },
   "notebookName": "20240709_Prototyping",
   "widgets": {}
  },
  "kernelspec": {
   "name": "python3",
   "language": "python",
   "display_name": "Python 3 (ipykernel)"
  }
 },
 "nbformat": 4,
 "nbformat_minor": 0
}
